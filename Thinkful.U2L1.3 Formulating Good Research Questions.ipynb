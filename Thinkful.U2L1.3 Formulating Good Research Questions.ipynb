{
 "cells": [
  {
   "cell_type": "markdown",
   "metadata": {},
   "source": [
    "<b>1.  What is the 1994 rate of juvenile delinquency in the U.S.?</b> \n",
    "\n",
    "This question is a good one in that there will definitely be statistical evidence to support the rate in 1994.  The only problem is defining juvenile delinquency.  Does juvenile delinquency equate to minors (under 18) who have been arrested by police for a certain offense?  Does it equate to students in schools that have disciplinary action taken against them (detentions, suspensions, etc.)?  A clear definition is needed in order to accurately convey the rate of juvenile delinquency.\n",
    "        "
   ]
  },
  {
   "cell_type": "markdown",
   "metadata": {},
   "source": [
    "<b>2.  What can we do to reduce juvenile delinquency in the U.S.?</b>\n",
    "\n",
    "This question is a bad one because it would not be easily converted to a numeral representation.  If we cannot represent the information as numbers easily, we cannot use data science to answer research questions.  Instead, we could ask, \"Which of the following solutions could best reduce juvenile delinquency?\" and then use numerical values to analyze the data."
   ]
  },
  {
   "cell_type": "markdown",
   "metadata": {},
   "source": [
    "<b>3.  Does education play a role in reducing juvenile delinquents' return to crime?</b>\n",
    "\n",
    "This question is a bit vague.  One could easily argue that education plays SOME kind of role in reducing juvenile delinquents' return to crime, but it would be better to ask something along the lines of, \"How much of a role does education play in reducing juvenile delinquents' return to crime?\""
   ]
  },
  {
   "cell_type": "markdown",
   "metadata": {},
   "source": [
    "<b>4.  How many customers does AT&T currently serve in Washington, DC?</b>\n",
    "\n",
    "On the surface this is a good question, but it could be clearer as far as whether you are talking about customers who live in Washington, DC, AT&T subscribers who are in Washington, DC at the time their call is placed, or AT&T subscribers who are in Washington, DC at any point in their call."
   ]
  },
  {
   "cell_type": "markdown",
   "metadata": {},
   "source": [
    "<b>5.  What factors lead consumers to choose AT&T over other service providers?</b>\n",
    "\n",
    "I think that this question is a good question, assuming there are choices that go along with the question.  Without choices, it would be difficult to compile the data into a usable format."
   ]
  },
  {
   "cell_type": "markdown",
   "metadata": {},
   "source": [
    "<b>6.  How can AT&T attract more customers?</b>\n",
    "\n",
    "Again, the question is fine provided that there are choices for the customers.  "
   ]
  },
  {
   "cell_type": "markdown",
   "metadata": {},
   "source": [
    "<b>7.  Why did the Challenger Shuttle explode?</b>\n",
    "\n",
    "This question is difficult to qualify because there could be contributing factors that caused its explosion.  One could ask to what degree of certainty the scientific community believes that a faulty tile led to the explosion."
   ]
  },
  {
   "cell_type": "markdown",
   "metadata": {},
   "source": [
    "<b>8.  Which genes are associated with increased risk of breast cancer?</b>\n",
    "\n",
    "I think this question is an excellent one, in that particular genes could be identified and can be given a statistical value with regard to cancer rates."
   ]
  },
  {
   "cell_type": "markdown",
   "metadata": {},
   "source": [
    "<b>9.  Is it better to read to children at night or in the morning?</b>\n",
    "\n",
    "This question seems like it is simple enough (basically it is a boolean value), but it seems like it could be very opinion-based.  If a proper research experiment were set up, then this would be a perfectly acceptable question."
   ]
  },
  {
   "cell_type": "markdown",
   "metadata": {},
   "source": [
    "<b>10.  How does Google’s search algorithm work?</b>\n",
    "\n",
    "This question, although a fascinating one to imagine, would be very challenging to answer as a research question.  Google's search algorithm much be exceptionally complex, which would make it nearly impossible to explain with a single research question."
   ]
  },
  {
   "cell_type": "code",
   "execution_count": null,
   "metadata": {},
   "outputs": [],
   "source": []
  }
 ],
 "metadata": {
  "kernelspec": {
   "display_name": "Python 3",
   "language": "python",
   "name": "python3"
  },
  "language_info": {
   "codemirror_mode": {
    "name": "ipython",
    "version": 3
   },
   "file_extension": ".py",
   "mimetype": "text/x-python",
   "name": "python",
   "nbconvert_exporter": "python",
   "pygments_lexer": "ipython3",
   "version": "3.6.1"
  }
 },
 "nbformat": 4,
 "nbformat_minor": 2
}
